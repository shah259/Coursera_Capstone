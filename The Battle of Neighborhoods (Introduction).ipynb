{
 "cells": [
  {
   "cell_type": "markdown",
   "metadata": {},
   "source": [
    "# Capstone Project - The Battle of Neighborhoods (Week 1)"
   ]
  },
  {
   "cell_type": "markdown",
   "metadata": {},
   "source": [
    "## Introduction:"
   ]
  },
  {
   "cell_type": "markdown",
   "metadata": {},
   "source": [
    "This project focuses on exploring opportunities from different neighborhoods. There are lots of neighborhoods but it is less evident that where people may reside in the best neighborhoods among them. This project help each person to identify the perfect place among other neighborhodds in Scarborough, Toranto.\n",
    "\n",
    "This project helps people to reside in a better neighborhoods where they will find facilities from schools, cafe, malls, medical shops, grocery shops, theater, hospitals, super market, like minded people, etc.\n",
    "\n",
    "The project mainly focusing on comparing among different neighborhoods for providing better insights by analysing crime ratings, housing price, road opportunities, weather quality and water & swearage facilities."
   ]
  },
  {
   "cell_type": "markdown",
   "metadata": {},
   "source": [
    "## Identifying problem to solve:"
   ]
  },
  {
   "cell_type": "markdown",
   "metadata": {},
   "source": [
    "Masny people are mrigrating here for finding a better way of living thus is the purpose of this projects. so, we need the following things to solve for finding better one.\n",
    "\n",
    "1. Arranging list of house sortaccording to hiousing prices.\n",
    "2. Another arranged lists of schools sorted by their ratings, location and fees."
   ]
  },
  {
   "cell_type": "markdown",
   "metadata": {},
   "source": [
    "## Location:"
   ]
  },
  {
   "cell_type": "markdown",
   "metadata": {},
   "source": [
    "Scarborough is a popular area where the rate of migration is very high. this borough is sorrounded by many multicultural areas with various religious and literatures. Therefore, Scarborough would be great location to choose for eefective analysis."
   ]
  },
  {
   "cell_type": "markdown",
   "metadata": {},
   "source": [
    "## Source of data:"
   ]
  },
  {
   "cell_type": "markdown",
   "metadata": {},
   "source": [
    "Foursquare API may be the best way of gathering data from sources. SO, here we use this API because it allows us to to explore many many places providing searching location, sharing location and many more. "
   ]
  },
  {
   "cell_type": "markdown",
   "metadata": {},
   "source": [
    "## Useful clustering approach:"
   ]
  },
  {
   "cell_type": "markdown",
   "metadata": {},
   "source": [
    "We will use k-means clustering algorithm to compare the similarities of two cities, exploring neighborhoods, segment them, and group them into clusters to find similar neighborhoods."
   ]
  },
  {
   "cell_type": "markdown",
   "metadata": {},
   "source": [
    "## Required libraries:"
   ]
  },
  {
   "cell_type": "markdown",
   "metadata": {},
   "source": [
    "Pandas: For creating and manipulating dataframes.\n",
    "\n",
    "Folium: Folium is used to visualize the neighborhoods cluster distribution.\n",
    "\n",
    "Scikit Learn: For importing k-means clustering.\n",
    "\n",
    "JSON: Library to handle JSON files.\n",
    "\n",
    "XML: To separate data from presentation and XML stores data in plain text format.\n",
    "\n",
    "Geocoder: To retrieve Location Data.\n",
    "\n",
    "Beautiful Soup and Requests: To scrap and library to handle http requests.\n",
    "\n",
    "Matplotlib: Python Plotting Module."
   ]
  }
 ],
 "metadata": {
  "kernelspec": {
   "display_name": "Python",
   "language": "python",
   "name": "conda-env-python-py"
  },
  "language_info": {
   "codemirror_mode": {
    "name": "ipython",
    "version": 3
   },
   "file_extension": ".py",
   "mimetype": "text/x-python",
   "name": "python",
   "nbconvert_exporter": "python",
   "pygments_lexer": "ipython3",
   "version": "3.6.11"
  }
 },
 "nbformat": 4,
 "nbformat_minor": 4
}
